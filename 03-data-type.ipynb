{
 "cells": [
  {
   "cell_type": "markdown",
   "metadata": {},
   "source": [
    "# Kiểu dữ liệu"
   ]
  },
  {
   "cell_type": "markdown",
   "metadata": {},
   "source": [
    "Kiểu dữ liệu là hình thức phân loại các mục dữ liệu.  \n",
    "Nó đại diện cho loại giá trị cho biết hoạt động nào có thể thực hiện trên một dữ liệu cụ thể.  \n",
    "Vì mọi thứ là một đối tượng trong lập trình Python, kiểu dữ liệu thực sự là các class, còn biến là đối tượng của những class này."
   ]
  },
  {
   "cell_type": "markdown",
   "metadata": {},
   "source": [
    "## 1. Biến"
   ]
  },
  {
   "cell_type": "markdown",
   "metadata": {},
   "source": [
    "Biến là một vị trí trong bộ nhớ được sử dụng để lưu trữ dữ liệu (giá trị). Biến được đặt tên duy nhất để phân biệt giữa các vị trí bộ nhớ khác nhau. Các quy tắc để viết tên một biến giống như quy tắc viết các định danh trong Python.  \n",
    "\n",
    "Trong Python, không cần khai báo biến trước khi sử dụng, chỉ cần gán cho biến một giá trị và nó sẽ tồn tại. Cũng không cần phải khai báo kiểu biến, kiểu biến sẽ được nhận tự động dựa vào giá trị đã gán cho biến.  \n",
    "\n",
    "Biến có thể chứa mọi đối tượng trong Python"
   ]
  },
  {
   "cell_type": "code",
   "execution_count": 2,
   "metadata": {},
   "outputs": [],
   "source": [
    "hoa = \"Hồng\"\n",
    "la = 3\n",
    "canh = 5.5\n"
   ]
  },
  {
   "cell_type": "code",
   "execution_count": 8,
   "metadata": {},
   "outputs": [],
   "source": [
    "# Gán giá trị cho nhiều biến\n",
    "hoa, la, canh = \"Hồng\", 3, 5.5"
   ]
  },
  {
   "cell_type": "markdown",
   "metadata": {},
   "source": [
    "Kiểu biến có thể thay đổi, dựa trên giá trị đã gán"
   ]
  },
  {
   "cell_type": "code",
   "execution_count": 9,
   "metadata": {},
   "outputs": [
    {
     "name": "stdout",
     "output_type": "stream",
     "text": [
      "<class 'int'>\n",
      "<class 'str'>\n",
      "<class 'float'>\n"
     ]
    }
   ],
   "source": [
    "a = 1\n",
    "print(type(a))\n",
    "a = '1'\n",
    "print(type(a))\n",
    "a = 0.1\n",
    "print(type(a))\n"
   ]
  },
  {
   "cell_type": "markdown",
   "metadata": {},
   "source": [
    "## 2. Kiểu dữ liệu số trong Python\n",
    "Python hỗ trợ số nguyên, số thập phân và số phức, chúng lần lượt được định nghĩa là các lớp int, float, complex trong Python.  \n",
    "Số nguyên và số thập phân được phân biệt bằng sự có mặt hoặc vắng mặt của dấu thập phân."
   ]
  },
  {
   "cell_type": "code",
   "execution_count": 10,
   "metadata": {},
   "outputs": [
    {
     "name": "stdout",
     "output_type": "stream",
     "text": [
      "<class 'int'>\n",
      "<class 'float'>\n",
      "(10+2j)\n",
      "True\n"
     ]
    }
   ],
   "source": [
    "a = 9\n",
    "\n",
    "# Output: <class 'int'>\n",
    "print(type(a))\n",
    "\n",
    "# Output: <class 'float'>\n",
    "print(type(5.0))\n",
    "\n",
    "# Output: (10+2j)\n",
    "b = 8 + 2j\n",
    "print(b + 2)\n",
    "\n",
    "# Kiểm tra xem b có phải là số phức không\n",
    "# Output: True\n",
    "print(isinstance(b, complex)) "
   ]
  },
  {
   "cell_type": "markdown",
   "metadata": {},
   "source": [
    "Số nguyên trong Python không bị giới hạn độ dài, số thập phân bị giới hạn đến 16 số sau dấu thập phân.  \n",
    "\n",
    "Những con số chúng là làm việc hàng ngày thường là hệ số 10, nhưng lập trình viên máy tính (thường là lập trình viên nhúng) cần làm việc với hệ thống số nhị phân, thập lục phân và bát phân. Để biểu diễn những hệ số này trong Python, ta đặt một tiền tố thích hợp trước số đó.   \n",
    "\n",
    "Tiền tố hệ số cho các số Python:  \n",
    "- Hệ thống số\t        Tiền tố\n",
    "- Hệ nhị phân:\t    '0b' hoặc '0B'\n",
    "- Hệ bát phân:\t    '0o' hoặc '0O'\n",
    "- Hệ thập lục phân:\t'0x' hoặc '0X'"
   ]
  },
  {
   "cell_type": "code",
   "execution_count": 11,
   "metadata": {},
   "outputs": [
    {
     "name": "stdout",
     "output_type": "stream",
     "text": [
      "187\n",
      "257\n",
      "15\n"
     ]
    }
   ],
   "source": [
    "# Output: 187\n",
    "print(0b10111011)\n",
    "\n",
    "# Output: 257 (250 + 7)\n",
    "print(0xFA + 0b111)\n",
    "\n",
    "# Output: 15\n",
    "print(0o17)"
   ]
  },
  {
   "cell_type": "markdown",
   "metadata": {},
   "source": [
    "***Chuyển đổi giữa các kiểu số trong Python***"
   ]
  },
  {
   "cell_type": "markdown",
   "metadata": {},
   "source": [
    "Có thể chuyển đổi kiểu số này sang kiểu số khác. Điều này còn được gọi là cưỡng chế (coercion).  \n",
    "Các phép toán như cộng, trừ sẽ ngầm chuyển đổi số nguyên thành số thập phân (một cách tự động) nếu có một toán tử trong phép toán là số thập phân."
   ]
  },
  {
   "cell_type": "code",
   "execution_count": 12,
   "metadata": {},
   "outputs": [
    {
     "name": "stdout",
     "output_type": "stream",
     "text": [
      "5.0\n"
     ]
    }
   ],
   "source": [
    "print(2 + 3.0)"
   ]
  },
  {
   "cell_type": "code",
   "execution_count": 13,
   "metadata": {},
   "outputs": [
    {
     "name": "stdout",
     "output_type": "stream",
     "text": [
      "3\n",
      "7.0\n",
      "(2+8j)\n"
     ]
    }
   ],
   "source": [
    "print(int(3.6))\n",
    "print(float(7))\n",
    "print(complex('2+8j'))\n"
   ]
  },
  {
   "cell_type": "markdown",
   "metadata": {},
   "source": [
    "***Decimal***"
   ]
  },
  {
   "cell_type": "code",
   "execution_count": 14,
   "metadata": {},
   "outputs": [
    {
     "name": "stdout",
     "output_type": "stream",
     "text": [
      "False\n"
     ]
    }
   ],
   "source": [
    "print((1.1 + 2.2) == 3.3)"
   ]
  },
  {
   "cell_type": "code",
   "execution_count": 15,
   "metadata": {},
   "outputs": [
    {
     "name": "stdout",
     "output_type": "stream",
     "text": [
      "0.30000000000000004\n"
     ]
    }
   ],
   "source": [
    "print(0.1 + 0.2)"
   ]
  },
  {
   "cell_type": "markdown",
   "metadata": {},
   "source": [
    "Khi chuyển đổi phần thập phân 0.1, sẽ dẫn đến phần nhị phân dài vô hạn của 0.000110011001100110011... và máy tính chỉ lưu trữ một phần số hữu hạn sau dấu  \n",
    "Đây là giới hạn phần cứng"
   ]
  },
  {
   "cell_type": "markdown",
   "metadata": {},
   "source": [
    "Sử dụng Decimal cho các phép toán chính xác"
   ]
  },
  {
   "cell_type": "code",
   "execution_count": 17,
   "metadata": {},
   "outputs": [
    {
     "name": "stdout",
     "output_type": "stream",
     "text": [
      "3.3\n",
      "10.000\n"
     ]
    }
   ],
   "source": [
    "from decimal import Decimal\n",
    "# Output: 3.3\n",
    "print(Decimal('1.1') + Decimal('2.2'))\n",
    "\n",
    "# Output: 10.000\n",
    "print(Decimal('4.0') * Decimal('2.50'))"
   ]
  }
 ],
 "metadata": {
  "kernelspec": {
   "display_name": "Python 3",
   "language": "python",
   "name": "python3"
  },
  "language_info": {
   "codemirror_mode": {
    "name": "ipython",
    "version": 3
   },
   "file_extension": ".py",
   "mimetype": "text/x-python",
   "name": "python",
   "nbconvert_exporter": "python",
   "pygments_lexer": "ipython3",
   "version": "3.10.8"
  }
 },
 "nbformat": 4,
 "nbformat_minor": 2
}
