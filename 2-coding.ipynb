{
 "cells": [
  {
   "cell_type": "markdown",
   "metadata": {},
   "source": [
    "# Coding"
   ]
  },
  {
   "cell_type": "markdown",
   "metadata": {},
   "source": [
    "Mỗi ngôn ngữ chứa từ và một danh sách quy tắc riêng để tạo thành câu ý nghĩa.  \n",
    "Tương tự, trong ngôn ngữ lập trình Python, một nhóm từ được xác định trước, mang tên Keyword - Từ khóa cùng với Indentifier - Định danh sẽ tạo thành các câu đầy đủ ý nghĩa khi được sử dụng cùng nhau.   \n",
    "Các từ khóa trong Python không thể được dùng làm tên của biến, hàm và class."
   ]
  },
  {
   "cell_type": "markdown",
   "metadata": {},
   "source": [
    "## 1. Keyword của Python\n"
   ]
  },
  {
   "cell_type": "markdown",
   "metadata": {},
   "source": [
    "Keyword (Từ khóa) của Python như đã nói là những từ chỉ dành riêng cho Python.   \n",
    "Không thể sử dụng những keyword này để đặt tên cho biến, tên hàm, hay sử dụng chúng như các hằng, tên định danh khác.   \n",
    "Chúng được sử dụng để xác định cú pháp và cấu trúc của ngôn ngữ Python."
   ]
  },
  {
   "cell_type": "code",
   "execution_count": 4,
   "metadata": {},
   "outputs": [
    {
     "name": "stdout",
     "output_type": "stream",
     "text": [
      "Số lượng keywork:  35\n",
      "['False', 'None', 'True', 'and', 'as', 'assert', 'async', 'await', 'break', 'class', 'continue', 'def', 'del', 'elif', 'else', 'except', 'finally', 'for', 'from', 'global', 'if', 'import', 'in', 'is', 'lambda', 'nonlocal', 'not', 'or', 'pass', 'raise', 'return', 'try', 'while', 'with', 'yield']\n"
     ]
    }
   ],
   "source": [
    "import keyword\n",
    "print('Số lượng keywork: ', len(keyword.kwlist))\n",
    "print(keyword.kwlist)"
   ]
  },
  {
   "cell_type": "markdown",
   "metadata": {},
   "source": [
    "## 2. Định danh trong Python\n",
    "Định danh là tên được đặt cho các thực thể như class, function (hàm), biến,... trong Python.   \n",
    "Nó giúp phân biệt thực thể này với thực thể khác.  \n"
   ]
  },
  {
   "cell_type": "markdown",
   "metadata": {},
   "source": [
    "**Quy tắc viết định danh trong Python**  \n",
    "- Định danh có thể là sự kết hợp giữa các chữ cái viết thường (từ a đến z) hoặc viết hoa (A đến Z) hoặc các số (từ 0 đến 9) hoăc dấu gạch dưới (_).  \n",
    "- Định danh không thể bắt đầu bằng một chữ số.  \n",
    "- Định danh phải khác các keyword.  \n",
    "- Python không hỗ trợ các ký tự đặc biệt như !, @, #, $, %,... trong định danh.\n",
    "- Định danh có thể dài bao nhiêu tùy ý.\n",
    "- Python là một ngôn ngữ phân biệt chữ hoa chữ thường"
   ]
  },
  {
   "cell_type": "code",
   "execution_count": 5,
   "metadata": {},
   "outputs": [
    {
     "name": "stdout",
     "output_type": "stream",
     "text": [
      "example of True, False, and, or, not keywords\n",
      "True\n",
      "True\n",
      "True\n"
     ]
    }
   ],
   "source": [
    "print(\"example of True, False, and, or, not keywords\")\n",
    "\n",
    "# so sánh hai toán hạng bằng toán tử and\n",
    "print(True and True)\n",
    "\n",
    "# so sánh hai toán hạng bằng toán tử or\n",
    "print(True or False)\n",
    "\n",
    "# sử dụng toán tử not\n",
    "print(not False)"
   ]
  },
  {
   "cell_type": "markdown",
   "metadata": {},
   "source": [
    "## 3. Thụt lề \n",
    "Trong C, C++ hay Java, chúng sử dụng { } để xác định các khối code.  \n",
    "Trong Python thì khác, những khối lệnh sẽ được nhận biết thông qua indent (thụt lề vào). "
   ]
  },
  {
   "cell_type": "markdown",
   "metadata": {},
   "source": [
    "Một khối code (thường là khối lệnh của hàm, vòng lặp,...) bắt đầu với thụt lề và kết thúc với dòng đầu tiên không thụt lề.  \n",
    "Thụt lề bao nhiêu là tùy thuộc ở bạn nhưng chúng phải nhất quán trong suốt khối code đó, tức là các lệnh trong cùng một khối thì phải có độ thụt lề bằng nhau"
   ]
  },
  {
   "cell_type": "code",
   "execution_count": 6,
   "metadata": {},
   "outputs": [
    {
     "name": "stdout",
     "output_type": "stream",
     "text": [
      "Five is greater than two!\n",
      "Five is greater than two!\n"
     ]
    }
   ],
   "source": [
    "if 5 > 2:\n",
    " print(\"Five is greater than two!\")\n",
    "if 5 > 2:\n",
    "    print(\"Five is greater than two!\")\n",
    "    "
   ]
  },
  {
   "cell_type": "code",
   "execution_count": 7,
   "metadata": {},
   "outputs": [
    {
     "ename": "IndentationError",
     "evalue": "expected an indented block after 'if' statement on line 1 (3793329317.py, line 2)",
     "output_type": "error",
     "traceback": [
      "\u001b[1;36m  Cell \u001b[1;32mIn[7], line 2\u001b[1;36m\u001b[0m\n\u001b[1;33m    print(\"Five is greater than two!\")\u001b[0m\n\u001b[1;37m    ^\u001b[0m\n\u001b[1;31mIndentationError\u001b[0m\u001b[1;31m:\u001b[0m expected an indented block after 'if' statement on line 1\n"
     ]
    }
   ],
   "source": [
    "if 5 > 2:\n",
    "print(\"Five is greater than two!\")"
   ]
  },
  {
   "cell_type": "markdown",
   "metadata": {},
   "source": [
    "## 4. Chú thích và bình luận\n",
    "Trong Python, ký tự # dùng để bắt đầu một chú thích.  \n",
    "Chú thích bắt đầu sau dấu # cho đến khi bắt đầu một dòng mới. Khi thông dịch, Python sẽ bỏ qua những chú thích này."
   ]
  },
  {
   "cell_type": "code",
   "execution_count": 8,
   "metadata": {},
   "outputs": [
    {
     "name": "stdout",
     "output_type": "stream",
     "text": [
      "Helloworlds\n"
     ]
    }
   ],
   "source": [
    "# Đây là chú thích\n",
    "# In dòng chữ \n",
    "print('Helloworlds')"
   ]
  },
  {
   "cell_type": "code",
   "execution_count": 9,
   "metadata": {},
   "outputs": [
    {
     "name": "stdout",
     "output_type": "stream",
     "text": [
      "Helloworlds\n"
     ]
    }
   ],
   "source": [
    "print('Helloworlds') #Đây là chú thích in dòng chữ Helloworlds"
   ]
  },
  {
   "cell_type": "markdown",
   "metadata": {},
   "source": [
    "Có cách khác để viết chú thích là sử dụng 3 dấu nháy đơn ' ' ' hoặc nháy kép \" \" \".  \n",
    "Những dấu nháy này thường được sử dụng cho các chuỗi nhiều dòng"
   ]
  },
  {
   "cell_type": "code",
   "execution_count": 10,
   "metadata": {},
   "outputs": [
    {
     "name": "stdout",
     "output_type": "stream",
     "text": [
      "Helloworlds\n"
     ]
    }
   ],
   "source": [
    "\"\"\"Đây là chú thích\n",
    "trên nhiều dòng\n",
    "In dòng chữ Helloworlds\n",
    "trong Python\"\"\"\n",
    "print('Helloworlds')"
   ]
  },
  {
   "cell_type": "markdown",
   "metadata": {},
   "source": [
    "## 5. PEP 8 – Style Guide for Python Code  \n",
    "https://peps.python.org/pep-0008/  \n",
    "\n",
    "Tài liệu này đưa ra các quy ước code cho mã nguồn Python bao gồm thư viện chuẩn trong bản phân phối Python chính.  \n",
    "Một trong những hiểu biết quan trọng của Guido là mã được đọc thường xuyên hơn nhiều so với việc viết.   \n",
    "Các nguyên tắc được cung cấp ở đây nhằm mục đích cải thiện khả năng đọc mã và làm cho nó nhất quán trên nhiều loại mã Python. Như PEP 20 nói, “Tính dễ đọc”"
   ]
  },
  {
   "cell_type": "markdown",
   "metadata": {},
   "source": [
    "### 5.1  Bố cục mã\n",
    "\n",
    "**Thụt lề**\n",
    "\n",
    "Sử dụng 4 khoảng trắng cho mỗi mức thụt lề.\n",
    "\n",
    "Các dòng tiếp tục phải căn chỉnh các phần tử được bao bọc theo chiều dọc bằng cách sử dụng đường nối ngầm của Python bên trong dấu ngoặc đơn, dấu ngoặc và dấu ngoặc nhọn hoặc sử dụng thụt lề.\n"
   ]
  },
  {
   "cell_type": "code",
   "execution_count": 12,
   "metadata": {},
   "outputs": [
    {
     "name": "stdout",
     "output_type": "stream",
     "text": [
      "1\n",
      "1\n"
     ]
    }
   ],
   "source": [
    "# Correct:\n",
    "\n",
    "# Add 4 spaces (an extra level of indentation) to distinguish arguments from the rest.\n",
    "def long_function_name(\n",
    "        var_one, var_two, var_three,\n",
    "        var_four):\n",
    "    print(var_one)\n",
    "\n",
    "# Aligned with opening delimiter.\n",
    "foo = long_function_name(1, 2,\n",
    "                         3, 4)\n",
    "\n",
    "\n",
    "\n",
    "# Hanging indents should add a level.\n",
    "foo = long_function_name(\n",
    "    1, 2,\n",
    "    3, 4)"
   ]
  },
  {
   "cell_type": "markdown",
   "metadata": {},
   "source": [
    "***Độ dài dòng tối đa*** "
   ]
  },
  {
   "cell_type": "markdown",
   "metadata": {},
   "source": [
    "Giới hạn tất cả các dòng ở mức tối đa 79 ký tự.  \n",
    "Nếu code dài hơn vui lòng sử dụng \\ để sang hàng tiếp theo\n"
   ]
  },
  {
   "cell_type": "code",
   "execution_count": null,
   "metadata": {},
   "outputs": [],
   "source": [
    "with open('/path/to/some/file/you/want/to/read') as file_1, \\\n",
    "     open('/path/to/some/file/being/written', 'w') as file_2:\n",
    "    file_2.write(file_1.read())"
   ]
  },
  {
   "cell_type": "markdown",
   "metadata": {},
   "source": [
    "***Nên ngắt dòng trước hay sau toán tử nhị phân?***"
   ]
  },
  {
   "cell_type": "code",
   "execution_count": null,
   "metadata": {},
   "outputs": [],
   "source": [
    "# Wrong:\n",
    "# operators sit far away from their operands\n",
    "income = (gross_wages +\n",
    "          taxable_interest +\n",
    "          (dividends - qualified_dividends) -\n",
    "          ira_deduction -\n",
    "          student_loan_interest)\n",
    "\n",
    "# Correct:\n",
    "# easy to match operators with operands\n",
    "income = (gross_wages\n",
    "          + taxable_interest\n",
    "          + (dividends - qualified_dividends)\n",
    "          - ira_deduction\n",
    "          - student_loan_interest)"
   ]
  },
  {
   "cell_type": "markdown",
   "metadata": {},
   "source": [
    "***Dòng trống***"
   ]
  },
  {
   "cell_type": "markdown",
   "metadata": {},
   "source": [
    "Bao quanh các định nghĩa lớp và hàm cấp cao nhất bằng hai dòng trống.\n",
    "Các định nghĩa phương thức bên trong một lớp được bao quanh bởi một dòng trống.\n",
    "\n"
   ]
  },
  {
   "cell_type": "markdown",
   "metadata": {},
   "source": [
    "***Quy ước đặt tên***  \n",
    "\n",
    "Các quy ước đặt tên của thư viện Python hơi lộn xộn, vì vậy chúng ta sẽ không bao giờ có được quy ước này hoàn toàn nhất quán – tuy nhiên, đây là các tiêu chuẩn đặt tên hiện được đề xuất. Các mô-đun và gói mới (bao gồm cả khung của bên thứ ba) phải được viết theo các tiêu chuẩn này, nhưng khi thư viện hiện có có phong cách khác thì tính nhất quán nội bộ sẽ được ưu tiên hơn.  \n",
    "Có rất nhiều phong cách đặt tên khác nhau. Nó giúp có thể nhận ra phong cách đặt tên nào đang được sử dụng, độc lập với mục đích sử dụng của chúng.  \n",
    "Các kiểu đặt tên sau đây thường được phân biệt:\n",
    "\n",
    "- b(một chữ cái viết thường)\n",
    "- B(chữ in hoa duy nhất)\n",
    "- lowercase\n",
    "- lower_case_with_underscores\n",
    "- UPPERCASE\n",
    "- UPPER_CASE_WITH_UNDERSCORES\n",
    "- CapitalizedWords(hoặc CapWords, hoặc CamelCase – được đặt tên như vậy vì hình dạng gập ghềnh của các chữ cái [4] ). Điều này đôi khi còn được gọi là StudlyCaps.\n",
    "Lưu ý: Khi sử dụng từ viết tắt trong CapWords, hãy viết hoa tất cả các chữ cái của từ viết tắt. Do đó HTTPServerError tốt hơn HttpServerError.\n",
    "\n",
    "- mixedCase(khác với CapitalizedWords ở ký tự viết thường đầu tiên!)\n",
    "- Capitalized_Words_With_Underscores(xấu xí!)"
   ]
  },
  {
   "cell_type": "markdown",
   "metadata": {},
   "source": [
    "Khuyến nghị:\n",
    "- Tên hằng: UPPERCASE\n",
    "- Tên lớp: CapitalizedWords\n",
    "- Tên mọi đối tượng khác: lower_case_with_underscores\n"
   ]
  }
 ],
 "metadata": {
  "kernelspec": {
   "display_name": "Python 3",
   "language": "python",
   "name": "python3"
  },
  "language_info": {
   "codemirror_mode": {
    "name": "ipython",
    "version": 3
   },
   "file_extension": ".py",
   "mimetype": "text/x-python",
   "name": "python",
   "nbconvert_exporter": "python",
   "pygments_lexer": "ipython3",
   "version": "3.10.8"
  }
 },
 "nbformat": 4,
 "nbformat_minor": 2
}
